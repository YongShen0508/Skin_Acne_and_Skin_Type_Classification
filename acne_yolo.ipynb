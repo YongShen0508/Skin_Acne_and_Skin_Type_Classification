{
 "cells": [
  {
   "cell_type": "code",
   "execution_count": 1,
   "id": "7eb4c98b-3cb4-450a-b942-400047e0a265",
   "metadata": {},
   "outputs": [],
   "source": [
    "from ultralytics import YOLO\n"
   ]
  },
  {
   "cell_type": "code",
   "execution_count": 20,
   "id": "bf3c5c38-0086-4982-8691-06153c7bbc58",
   "metadata": {},
   "outputs": [],
   "source": [
    "model = YOLO(\"yolov8n-cls.pt\")  # Load the nano model for classification\n"
   ]
  },
  {
   "cell_type": "code",
   "execution_count": 26,
   "id": "1a49a2e2-87e4-465d-8d9d-76315aa7caa2",
   "metadata": {
    "scrolled": true
   },
   "outputs": [
    {
     "name": "stdout",
     "output_type": "stream",
     "text": [
      "New https://pypi.org/project/ultralytics/8.3.92 available  Update with 'pip install -U ultralytics'\n",
      "\u001b[34m\u001b[1mengine\\trainer: \u001b[0mtask=classify, mode=train, model=yolov8n-cls.pt, data=dataset, epochs=50, time=None, patience=100, batch=16, imgsz=224, save=True, save_period=-1, cache=False, device=cuda:0, workers=8, project=None, name=train65, exist_ok=False, pretrained=True, optimizer=auto, verbose=True, seed=0, deterministic=True, single_cls=False, rect=False, cos_lr=False, close_mosaic=10, resume=False, amp=True, fraction=1.0, profile=False, freeze=None, multi_scale=False, overlap_mask=True, mask_ratio=4, dropout=0.0, val=True, split=val, save_json=False, save_hybrid=False, conf=None, iou=0.7, max_det=300, half=False, dnn=False, plots=True, source=None, vid_stride=1, stream_buffer=False, visualize=False, augment=False, agnostic_nms=False, classes=None, retina_masks=False, embed=None, show=False, save_frames=False, save_txt=False, save_conf=False, save_crop=False, show_labels=True, show_conf=True, show_boxes=True, line_width=None, format=torchscript, keras=False, optimize=False, int8=False, dynamic=False, simplify=True, opset=None, workspace=None, nms=False, lr0=0.01, lrf=0.01, momentum=0.937, weight_decay=0.0005, warmup_epochs=3.0, warmup_momentum=0.8, warmup_bias_lr=0.0, box=7.5, cls=0.5, dfl=1.5, pose=12.0, kobj=1.0, nbs=64, hsv_h=0.015, hsv_s=0.7, hsv_v=0.4, degrees=0.0, translate=0.1, scale=0.5, shear=0.0, perspective=0.0, flipud=0.0, fliplr=0.5, bgr=0.0, mosaic=1.0, mixup=0.0, copy_paste=0.0, copy_paste_mode=flip, auto_augment=randaugment, erasing=0.4, crop_fraction=1.0, cfg=None, tracker=botsort.yaml, save_dir=C:\\Users\\yongs\\runs\\classify\\train65\n",
      "\u001b[34m\u001b[1mtrain:\u001b[0m C:\\Users\\yongs\\Documents\\acne_dataset\\dataset\\train... found 798 images in 3 classes  \n",
      "\u001b[34m\u001b[1mval:\u001b[0m None...\n",
      "\u001b[34m\u001b[1mtest:\u001b[0m C:\\Users\\yongs\\Documents\\acne_dataset\\dataset\\test... found 202 images in 3 classes  \n",
      "\n",
      "                   from  n    params  module                                       arguments                     \n",
      "  0                  -1  1       464  ultralytics.nn.modules.conv.Conv             [3, 16, 3, 2]                 \n",
      "  1                  -1  1      4672  ultralytics.nn.modules.conv.Conv             [16, 32, 3, 2]                \n",
      "  2                  -1  1      7360  ultralytics.nn.modules.block.C2f             [32, 32, 1, True]             \n",
      "  3                  -1  1     18560  ultralytics.nn.modules.conv.Conv             [32, 64, 3, 2]                \n",
      "  4                  -1  2     49664  ultralytics.nn.modules.block.C2f             [64, 64, 2, True]             \n",
      "  5                  -1  1     73984  ultralytics.nn.modules.conv.Conv             [64, 128, 3, 2]               \n",
      "  6                  -1  2    197632  ultralytics.nn.modules.block.C2f             [128, 128, 2, True]           \n",
      "  7                  -1  1    295424  ultralytics.nn.modules.conv.Conv             [128, 256, 3, 2]              \n",
      "  8                  -1  1    460288  ultralytics.nn.modules.block.C2f             [256, 256, 1, True]           \n",
      "  9                  -1  1    334083  ultralytics.nn.modules.head.Classify         [256, 3]                      \n",
      "YOLOv8n-cls summary: 56 layers, 1,442,131 parameters, 1,442,131 gradients, 3.4 GFLOPs\n",
      "Transferred 28/158 items from pretrained weights\n",
      "\u001b[34m\u001b[1mTensorBoard: \u001b[0mStart with 'tensorboard --logdir C:\\Users\\yongs\\runs\\classify\\train65', view at http://localhost:6006/\n",
      "\u001b[34m\u001b[1mAMP: \u001b[0mchecks failed . AMP training on NVIDIA GeForce GTX 1650 GPU may cause NaN losses or zero-mAP results, so AMP will be disabled during training.\n"
     ]
    },
    {
     "name": "stderr",
     "output_type": "stream",
     "text": [
      "\u001b[34m\u001b[1mtrain: \u001b[0mScanning C:\\Users\\yongs\\Documents\\acne_dataset\\dataset\\train... 798 images, 0 corrupt: 100%|██████████| 798/798 [00:00<?, ?it/s]\n",
      "\u001b[34m\u001b[1mval: \u001b[0mScanning C:\\Users\\yongs\\Documents\\acne_dataset\\dataset\\test... 202 images, 0 corrupt: 100%|██████████| 202/202 [00:00<?, ?it/s]\n"
     ]
    },
    {
     "name": "stdout",
     "output_type": "stream",
     "text": [
      "\u001b[34m\u001b[1moptimizer:\u001b[0m 'optimizer=auto' found, ignoring 'lr0=0.01' and 'momentum=0.937' and determining best 'optimizer', 'lr0' and 'momentum' automatically... \n",
      "\u001b[34m\u001b[1moptimizer:\u001b[0m AdamW(lr=0.001429, momentum=0.9) with parameter groups 26 weight(decay=0.0), 27 weight(decay=0.0005), 27 bias(decay=0.0)\n",
      "\u001b[34m\u001b[1mTensorBoard: \u001b[0mmodel graph visualization added \n",
      "Image sizes 224 train, 224 val\n",
      "Using 8 dataloader workers\n",
      "Logging results to \u001b[1mC:\\Users\\yongs\\runs\\classify\\train65\u001b[0m\n",
      "Starting training for 50 epochs...\n",
      "\n",
      "      Epoch    GPU_mem       loss  Instances       Size\n"
     ]
    },
    {
     "name": "stderr",
     "output_type": "stream",
     "text": [
      "       1/50     0.426G     0.8581         14        224: 100%|██████████| 50/50 [00:03<00:00, 14.20it/s]\n",
      "               classes   top1_acc   top5_acc: 100%|██████████| 7/7 [00:04<00:00,  1.42it/s]"
     ]
    },
    {
     "name": "stdout",
     "output_type": "stream",
     "text": [
      "                   all      0.614          1\n"
     ]
    },
    {
     "name": "stderr",
     "output_type": "stream",
     "text": [
      "\n"
     ]
    },
    {
     "name": "stdout",
     "output_type": "stream",
     "text": [
      "\n",
      "      Epoch    GPU_mem       loss  Instances       Size\n"
     ]
    },
    {
     "name": "stderr",
     "output_type": "stream",
     "text": [
      "       2/50     0.457G      0.771         14        224: 100%|██████████| 50/50 [00:01<00:00, 27.26it/s]\n",
      "               classes   top1_acc   top5_acc: 100%|██████████| 7/7 [00:00<00:00, 56.45it/s]"
     ]
    },
    {
     "name": "stdout",
     "output_type": "stream",
     "text": [
      "                   all      0.673          1\n"
     ]
    },
    {
     "name": "stderr",
     "output_type": "stream",
     "text": [
      "\n"
     ]
    },
    {
     "name": "stdout",
     "output_type": "stream",
     "text": [
      "\n",
      "      Epoch    GPU_mem       loss  Instances       Size\n"
     ]
    },
    {
     "name": "stderr",
     "output_type": "stream",
     "text": [
      "       3/50     0.457G     0.7626         14        224: 100%|██████████| 50/50 [00:02<00:00, 23.57it/s]\n",
      "               classes   top1_acc   top5_acc: 100%|██████████| 7/7 [00:00<00:00, 45.03it/s]"
     ]
    },
    {
     "name": "stdout",
     "output_type": "stream",
     "text": [
      "                   all      0.688          1\n"
     ]
    },
    {
     "name": "stderr",
     "output_type": "stream",
     "text": [
      "\n"
     ]
    },
    {
     "name": "stdout",
     "output_type": "stream",
     "text": [
      "\n",
      "      Epoch    GPU_mem       loss  Instances       Size\n"
     ]
    },
    {
     "name": "stderr",
     "output_type": "stream",
     "text": [
      "       4/50     0.457G     0.7437         14        224: 100%|██████████| 50/50 [00:02<00:00, 24.59it/s]\n",
      "               classes   top1_acc   top5_acc: 100%|██████████| 7/7 [00:00<00:00, 46.56it/s]"
     ]
    },
    {
     "name": "stdout",
     "output_type": "stream",
     "text": [
      "                   all      0.619          1\n"
     ]
    },
    {
     "name": "stderr",
     "output_type": "stream",
     "text": [
      "\n"
     ]
    },
    {
     "name": "stdout",
     "output_type": "stream",
     "text": [
      "\n",
      "      Epoch    GPU_mem       loss  Instances       Size\n"
     ]
    },
    {
     "name": "stderr",
     "output_type": "stream",
     "text": [
      "       5/50     0.465G      0.684         14        224: 100%|██████████| 50/50 [00:01<00:00, 26.46it/s]\n",
      "               classes   top1_acc   top5_acc: 100%|██████████| 7/7 [00:00<00:00, 53.45it/s]"
     ]
    },
    {
     "name": "stdout",
     "output_type": "stream",
     "text": [
      "                   all      0.723          1\n"
     ]
    },
    {
     "name": "stderr",
     "output_type": "stream",
     "text": [
      "\n"
     ]
    },
    {
     "name": "stdout",
     "output_type": "stream",
     "text": [
      "\n",
      "      Epoch    GPU_mem       loss  Instances       Size\n"
     ]
    },
    {
     "name": "stderr",
     "output_type": "stream",
     "text": [
      "       6/50     0.465G     0.7527         14        224: 100%|██████████| 50/50 [00:01<00:00, 27.11it/s]\n",
      "               classes   top1_acc   top5_acc: 100%|██████████| 7/7 [00:00<00:00, 55.98it/s]"
     ]
    },
    {
     "name": "stdout",
     "output_type": "stream",
     "text": [
      "                   all      0.673          1\n"
     ]
    },
    {
     "name": "stderr",
     "output_type": "stream",
     "text": [
      "\n"
     ]
    },
    {
     "name": "stdout",
     "output_type": "stream",
     "text": [
      "\n",
      "      Epoch    GPU_mem       loss  Instances       Size\n"
     ]
    },
    {
     "name": "stderr",
     "output_type": "stream",
     "text": [
      "       7/50     0.465G     0.7549         14        224: 100%|██████████| 50/50 [00:01<00:00, 28.92it/s]\n",
      "               classes   top1_acc   top5_acc: 100%|██████████| 7/7 [00:00<00:00, 58.53it/s]"
     ]
    },
    {
     "name": "stdout",
     "output_type": "stream",
     "text": [
      "                   all      0.738          1\n"
     ]
    },
    {
     "name": "stderr",
     "output_type": "stream",
     "text": [
      "\n"
     ]
    },
    {
     "name": "stdout",
     "output_type": "stream",
     "text": [
      "\n",
      "      Epoch    GPU_mem       loss  Instances       Size\n"
     ]
    },
    {
     "name": "stderr",
     "output_type": "stream",
     "text": [
      "       8/50     0.465G     0.7147         14        224: 100%|██████████| 50/50 [00:01<00:00, 28.42it/s]\n",
      "               classes   top1_acc   top5_acc: 100%|██████████| 7/7 [00:00<00:00, 50.70it/s]"
     ]
    },
    {
     "name": "stdout",
     "output_type": "stream",
     "text": [
      "                   all      0.748          1\n"
     ]
    },
    {
     "name": "stderr",
     "output_type": "stream",
     "text": [
      "\n"
     ]
    },
    {
     "name": "stdout",
     "output_type": "stream",
     "text": [
      "\n",
      "      Epoch    GPU_mem       loss  Instances       Size\n"
     ]
    },
    {
     "name": "stderr",
     "output_type": "stream",
     "text": [
      "       9/50     0.465G     0.6816         14        224: 100%|██████████| 50/50 [00:01<00:00, 26.45it/s]\n",
      "               classes   top1_acc   top5_acc: 100%|██████████| 7/7 [00:00<00:00, 58.66it/s]\n"
     ]
    },
    {
     "name": "stdout",
     "output_type": "stream",
     "text": [
      "                   all      0.748          1\n",
      "\n",
      "      Epoch    GPU_mem       loss  Instances       Size\n"
     ]
    },
    {
     "name": "stderr",
     "output_type": "stream",
     "text": [
      "      10/50     0.465G     0.6897         14        224: 100%|██████████| 50/50 [00:01<00:00, 26.58it/s]\n",
      "               classes   top1_acc   top5_acc: 100%|██████████| 7/7 [00:00<00:00, 42.86it/s]"
     ]
    },
    {
     "name": "stdout",
     "output_type": "stream",
     "text": [
      "                   all      0.767          1\n"
     ]
    },
    {
     "name": "stderr",
     "output_type": "stream",
     "text": [
      "\n"
     ]
    },
    {
     "name": "stdout",
     "output_type": "stream",
     "text": [
      "\n",
      "      Epoch    GPU_mem       loss  Instances       Size\n"
     ]
    },
    {
     "name": "stderr",
     "output_type": "stream",
     "text": [
      "      11/50     0.465G     0.5986         14        224: 100%|██████████| 50/50 [00:01<00:00, 26.05it/s]\n",
      "               classes   top1_acc   top5_acc: 100%|██████████| 7/7 [00:00<00:00, 54.94it/s]"
     ]
    },
    {
     "name": "stdout",
     "output_type": "stream",
     "text": [
      "                   all      0.748          1\n"
     ]
    },
    {
     "name": "stderr",
     "output_type": "stream",
     "text": [
      "\n"
     ]
    },
    {
     "name": "stdout",
     "output_type": "stream",
     "text": [
      "\n",
      "      Epoch    GPU_mem       loss  Instances       Size\n"
     ]
    },
    {
     "name": "stderr",
     "output_type": "stream",
     "text": [
      "      12/50     0.465G     0.6531         14        224: 100%|██████████| 50/50 [00:01<00:00, 29.04it/s]\n",
      "               classes   top1_acc   top5_acc: 100%|██████████| 7/7 [00:00<00:00, 58.51it/s]"
     ]
    },
    {
     "name": "stdout",
     "output_type": "stream",
     "text": [
      "                   all      0.743          1\n"
     ]
    },
    {
     "name": "stderr",
     "output_type": "stream",
     "text": [
      "\n"
     ]
    },
    {
     "name": "stdout",
     "output_type": "stream",
     "text": [
      "\n",
      "      Epoch    GPU_mem       loss  Instances       Size\n"
     ]
    },
    {
     "name": "stderr",
     "output_type": "stream",
     "text": [
      "      13/50     0.465G     0.6898         14        224: 100%|██████████| 50/50 [00:01<00:00, 27.73it/s]\n",
      "               classes   top1_acc   top5_acc: 100%|██████████| 7/7 [00:00<00:00, 53.70it/s]"
     ]
    },
    {
     "name": "stdout",
     "output_type": "stream",
     "text": [
      "                   all      0.718          1\n"
     ]
    },
    {
     "name": "stderr",
     "output_type": "stream",
     "text": [
      "\n"
     ]
    },
    {
     "name": "stdout",
     "output_type": "stream",
     "text": [
      "\n",
      "      Epoch    GPU_mem       loss  Instances       Size\n"
     ]
    },
    {
     "name": "stderr",
     "output_type": "stream",
     "text": [
      "      14/50     0.465G     0.6949         14        224: 100%|██████████| 50/50 [00:01<00:00, 28.26it/s]\n",
      "               classes   top1_acc   top5_acc: 100%|██████████| 7/7 [00:00<00:00, 57.51it/s]"
     ]
    },
    {
     "name": "stdout",
     "output_type": "stream",
     "text": [
      "                   all      0.748          1\n"
     ]
    },
    {
     "name": "stderr",
     "output_type": "stream",
     "text": [
      "\n"
     ]
    },
    {
     "name": "stdout",
     "output_type": "stream",
     "text": [
      "\n",
      "      Epoch    GPU_mem       loss  Instances       Size\n"
     ]
    },
    {
     "name": "stderr",
     "output_type": "stream",
     "text": [
      "      15/50     0.465G     0.6628         14        224: 100%|██████████| 50/50 [00:01<00:00, 29.31it/s]\n",
      "               classes   top1_acc   top5_acc: 100%|██████████| 7/7 [00:00<00:00, 58.08it/s]"
     ]
    },
    {
     "name": "stdout",
     "output_type": "stream",
     "text": [
      "                   all      0.752          1\n"
     ]
    },
    {
     "name": "stderr",
     "output_type": "stream",
     "text": [
      "\n"
     ]
    },
    {
     "name": "stdout",
     "output_type": "stream",
     "text": [
      "\n",
      "      Epoch    GPU_mem       loss  Instances       Size\n"
     ]
    },
    {
     "name": "stderr",
     "output_type": "stream",
     "text": [
      "      16/50     0.465G     0.6701         14        224: 100%|██████████| 50/50 [00:01<00:00, 29.64it/s]\n",
      "               classes   top1_acc   top5_acc: 100%|██████████| 7/7 [00:00<00:00, 56.70it/s]"
     ]
    },
    {
     "name": "stdout",
     "output_type": "stream",
     "text": [
      "                   all      0.708          1\n"
     ]
    },
    {
     "name": "stderr",
     "output_type": "stream",
     "text": [
      "\n"
     ]
    },
    {
     "name": "stdout",
     "output_type": "stream",
     "text": [
      "\n",
      "      Epoch    GPU_mem       loss  Instances       Size\n"
     ]
    },
    {
     "name": "stderr",
     "output_type": "stream",
     "text": [
      "      17/50     0.465G     0.6645         14        224: 100%|██████████| 50/50 [00:01<00:00, 29.43it/s]\n",
      "               classes   top1_acc   top5_acc: 100%|██████████| 7/7 [00:00<00:00, 59.97it/s]"
     ]
    },
    {
     "name": "stdout",
     "output_type": "stream",
     "text": [
      "                   all      0.777          1\n"
     ]
    },
    {
     "name": "stderr",
     "output_type": "stream",
     "text": [
      "\n"
     ]
    },
    {
     "name": "stdout",
     "output_type": "stream",
     "text": [
      "\n",
      "      Epoch    GPU_mem       loss  Instances       Size\n"
     ]
    },
    {
     "name": "stderr",
     "output_type": "stream",
     "text": [
      "      18/50     0.465G     0.6472         14        224: 100%|██████████| 50/50 [00:01<00:00, 28.50it/s]\n",
      "               classes   top1_acc   top5_acc: 100%|██████████| 7/7 [00:00<00:00, 57.99it/s]"
     ]
    },
    {
     "name": "stdout",
     "output_type": "stream",
     "text": [
      "                   all      0.767          1\n"
     ]
    },
    {
     "name": "stderr",
     "output_type": "stream",
     "text": [
      "\n"
     ]
    },
    {
     "name": "stdout",
     "output_type": "stream",
     "text": [
      "\n",
      "      Epoch    GPU_mem       loss  Instances       Size\n"
     ]
    },
    {
     "name": "stderr",
     "output_type": "stream",
     "text": [
      "      19/50     0.465G     0.5908         14        224: 100%|██████████| 50/50 [00:01<00:00, 28.84it/s]\n",
      "               classes   top1_acc   top5_acc: 100%|██████████| 7/7 [00:00<00:00, 55.71it/s]"
     ]
    },
    {
     "name": "stdout",
     "output_type": "stream",
     "text": [
      "                   all      0.767          1\n"
     ]
    },
    {
     "name": "stderr",
     "output_type": "stream",
     "text": [
      "\n"
     ]
    },
    {
     "name": "stdout",
     "output_type": "stream",
     "text": [
      "\n",
      "      Epoch    GPU_mem       loss  Instances       Size\n"
     ]
    },
    {
     "name": "stderr",
     "output_type": "stream",
     "text": [
      "      20/50     0.465G     0.6039         14        224: 100%|██████████| 50/50 [00:01<00:00, 29.36it/s]\n",
      "               classes   top1_acc   top5_acc: 100%|██████████| 7/7 [00:00<00:00, 58.01it/s]"
     ]
    },
    {
     "name": "stdout",
     "output_type": "stream",
     "text": [
      "                   all      0.787          1\n"
     ]
    },
    {
     "name": "stderr",
     "output_type": "stream",
     "text": [
      "\n"
     ]
    },
    {
     "name": "stdout",
     "output_type": "stream",
     "text": [
      "\n",
      "      Epoch    GPU_mem       loss  Instances       Size\n"
     ]
    },
    {
     "name": "stderr",
     "output_type": "stream",
     "text": [
      "      21/50     0.465G     0.5931         14        224: 100%|██████████| 50/50 [00:01<00:00, 29.39it/s]\n",
      "               classes   top1_acc   top5_acc: 100%|██████████| 7/7 [00:00<00:00, 57.97it/s]"
     ]
    },
    {
     "name": "stdout",
     "output_type": "stream",
     "text": [
      "                   all      0.787          1\n"
     ]
    },
    {
     "name": "stderr",
     "output_type": "stream",
     "text": [
      "\n"
     ]
    },
    {
     "name": "stdout",
     "output_type": "stream",
     "text": [
      "\n",
      "      Epoch    GPU_mem       loss  Instances       Size\n"
     ]
    },
    {
     "name": "stderr",
     "output_type": "stream",
     "text": [
      "      22/50     0.465G     0.5898         14        224: 100%|██████████| 50/50 [00:01<00:00, 29.12it/s]\n",
      "               classes   top1_acc   top5_acc: 100%|██████████| 7/7 [00:00<00:00, 59.21it/s]"
     ]
    },
    {
     "name": "stdout",
     "output_type": "stream",
     "text": [
      "                   all      0.782          1\n"
     ]
    },
    {
     "name": "stderr",
     "output_type": "stream",
     "text": [
      "\n"
     ]
    },
    {
     "name": "stdout",
     "output_type": "stream",
     "text": [
      "\n",
      "      Epoch    GPU_mem       loss  Instances       Size\n"
     ]
    },
    {
     "name": "stderr",
     "output_type": "stream",
     "text": [
      "      23/50     0.465G     0.6086         14        224: 100%|██████████| 50/50 [00:01<00:00, 26.67it/s]\n",
      "               classes   top1_acc   top5_acc: 100%|██████████| 7/7 [00:00<00:00, 55.35it/s]"
     ]
    },
    {
     "name": "stdout",
     "output_type": "stream",
     "text": [
      "                   all      0.688          1\n"
     ]
    },
    {
     "name": "stderr",
     "output_type": "stream",
     "text": [
      "\n"
     ]
    },
    {
     "name": "stdout",
     "output_type": "stream",
     "text": [
      "\n",
      "      Epoch    GPU_mem       loss  Instances       Size\n"
     ]
    },
    {
     "name": "stderr",
     "output_type": "stream",
     "text": [
      "      24/50     0.465G     0.5932         14        224: 100%|██████████| 50/50 [00:01<00:00, 28.75it/s]\n",
      "               classes   top1_acc   top5_acc: 100%|██████████| 7/7 [00:00<00:00, 53.86it/s]"
     ]
    },
    {
     "name": "stdout",
     "output_type": "stream",
     "text": [
      "                   all      0.748          1\n"
     ]
    },
    {
     "name": "stderr",
     "output_type": "stream",
     "text": [
      "\n"
     ]
    },
    {
     "name": "stdout",
     "output_type": "stream",
     "text": [
      "\n",
      "      Epoch    GPU_mem       loss  Instances       Size\n"
     ]
    },
    {
     "name": "stderr",
     "output_type": "stream",
     "text": [
      "      25/50     0.465G     0.5484         14        224: 100%|██████████| 50/50 [00:01<00:00, 27.16it/s]\n",
      "               classes   top1_acc   top5_acc: 100%|██████████| 7/7 [00:00<00:00, 52.93it/s]"
     ]
    },
    {
     "name": "stdout",
     "output_type": "stream",
     "text": [
      "                   all      0.787          1\n"
     ]
    },
    {
     "name": "stderr",
     "output_type": "stream",
     "text": [
      "\n"
     ]
    },
    {
     "name": "stdout",
     "output_type": "stream",
     "text": [
      "\n",
      "      Epoch    GPU_mem       loss  Instances       Size\n"
     ]
    },
    {
     "name": "stderr",
     "output_type": "stream",
     "text": [
      "      26/50     0.465G     0.5984         14        224: 100%|██████████| 50/50 [00:01<00:00, 28.05it/s]\n",
      "               classes   top1_acc   top5_acc: 100%|██████████| 7/7 [00:00<00:00, 60.13it/s]"
     ]
    },
    {
     "name": "stdout",
     "output_type": "stream",
     "text": [
      "                   all      0.748          1\n"
     ]
    },
    {
     "name": "stderr",
     "output_type": "stream",
     "text": [
      "\n"
     ]
    },
    {
     "name": "stdout",
     "output_type": "stream",
     "text": [
      "\n",
      "      Epoch    GPU_mem       loss  Instances       Size\n"
     ]
    },
    {
     "name": "stderr",
     "output_type": "stream",
     "text": [
      "      27/50     0.465G      0.589         14        224: 100%|██████████| 50/50 [00:01<00:00, 28.24it/s]\n",
      "               classes   top1_acc   top5_acc: 100%|██████████| 7/7 [00:00<00:00, 56.77it/s]"
     ]
    },
    {
     "name": "stdout",
     "output_type": "stream",
     "text": [
      "                   all      0.792          1\n"
     ]
    },
    {
     "name": "stderr",
     "output_type": "stream",
     "text": [
      "\n"
     ]
    },
    {
     "name": "stdout",
     "output_type": "stream",
     "text": [
      "\n",
      "      Epoch    GPU_mem       loss  Instances       Size\n"
     ]
    },
    {
     "name": "stderr",
     "output_type": "stream",
     "text": [
      "      28/50     0.465G     0.5867         14        224: 100%|██████████| 50/50 [00:01<00:00, 29.07it/s]\n",
      "               classes   top1_acc   top5_acc: 100%|██████████| 7/7 [00:00<00:00, 58.12it/s]"
     ]
    },
    {
     "name": "stdout",
     "output_type": "stream",
     "text": [
      "                   all      0.767          1\n"
     ]
    },
    {
     "name": "stderr",
     "output_type": "stream",
     "text": [
      "\n"
     ]
    },
    {
     "name": "stdout",
     "output_type": "stream",
     "text": [
      "\n",
      "      Epoch    GPU_mem       loss  Instances       Size\n"
     ]
    },
    {
     "name": "stderr",
     "output_type": "stream",
     "text": [
      "      29/50     0.465G      0.617         14        224: 100%|██████████| 50/50 [00:01<00:00, 29.10it/s]\n",
      "               classes   top1_acc   top5_acc: 100%|██████████| 7/7 [00:00<00:00, 57.62it/s]"
     ]
    },
    {
     "name": "stdout",
     "output_type": "stream",
     "text": [
      "                   all      0.772          1\n"
     ]
    },
    {
     "name": "stderr",
     "output_type": "stream",
     "text": [
      "\n"
     ]
    },
    {
     "name": "stdout",
     "output_type": "stream",
     "text": [
      "\n",
      "      Epoch    GPU_mem       loss  Instances       Size\n"
     ]
    },
    {
     "name": "stderr",
     "output_type": "stream",
     "text": [
      "      30/50     0.465G     0.5624         14        224: 100%|██████████| 50/50 [00:01<00:00, 29.13it/s]\n",
      "               classes   top1_acc   top5_acc: 100%|██████████| 7/7 [00:00<00:00, 57.92it/s]"
     ]
    },
    {
     "name": "stdout",
     "output_type": "stream",
     "text": [
      "                   all      0.752          1\n"
     ]
    },
    {
     "name": "stderr",
     "output_type": "stream",
     "text": [
      "\n"
     ]
    },
    {
     "name": "stdout",
     "output_type": "stream",
     "text": [
      "\n",
      "      Epoch    GPU_mem       loss  Instances       Size\n"
     ]
    },
    {
     "name": "stderr",
     "output_type": "stream",
     "text": [
      "      31/50     0.465G     0.5435         14        224: 100%|██████████| 50/50 [00:01<00:00, 28.92it/s]\n",
      "               classes   top1_acc   top5_acc: 100%|██████████| 7/7 [00:00<00:00, 56.85it/s]"
     ]
    },
    {
     "name": "stdout",
     "output_type": "stream",
     "text": [
      "                   all      0.807          1\n"
     ]
    },
    {
     "name": "stderr",
     "output_type": "stream",
     "text": [
      "\n"
     ]
    },
    {
     "name": "stdout",
     "output_type": "stream",
     "text": [
      "\n",
      "      Epoch    GPU_mem       loss  Instances       Size\n"
     ]
    },
    {
     "name": "stderr",
     "output_type": "stream",
     "text": [
      "      32/50     0.465G     0.5376         14        224: 100%|██████████| 50/50 [00:01<00:00, 27.82it/s]\n",
      "               classes   top1_acc   top5_acc: 100%|██████████| 7/7 [00:00<00:00, 55.80it/s]"
     ]
    },
    {
     "name": "stdout",
     "output_type": "stream",
     "text": [
      "                   all      0.772          1\n"
     ]
    },
    {
     "name": "stderr",
     "output_type": "stream",
     "text": [
      "\n"
     ]
    },
    {
     "name": "stdout",
     "output_type": "stream",
     "text": [
      "\n",
      "      Epoch    GPU_mem       loss  Instances       Size\n"
     ]
    },
    {
     "name": "stderr",
     "output_type": "stream",
     "text": [
      "      33/50     0.465G      0.549         14        224: 100%|██████████| 50/50 [00:01<00:00, 25.20it/s]\n",
      "               classes   top1_acc   top5_acc: 100%|██████████| 7/7 [00:00<00:00, 50.73it/s]"
     ]
    },
    {
     "name": "stdout",
     "output_type": "stream",
     "text": [
      "                   all      0.767          1\n"
     ]
    },
    {
     "name": "stderr",
     "output_type": "stream",
     "text": [
      "\n"
     ]
    },
    {
     "name": "stdout",
     "output_type": "stream",
     "text": [
      "\n",
      "      Epoch    GPU_mem       loss  Instances       Size\n"
     ]
    },
    {
     "name": "stderr",
     "output_type": "stream",
     "text": [
      "      34/50     0.465G     0.5602         14        224: 100%|██████████| 50/50 [00:01<00:00, 25.25it/s]\n",
      "               classes   top1_acc   top5_acc: 100%|██████████| 7/7 [00:00<00:00, 55.46it/s]"
     ]
    },
    {
     "name": "stdout",
     "output_type": "stream",
     "text": [
      "                   all      0.787          1\n"
     ]
    },
    {
     "name": "stderr",
     "output_type": "stream",
     "text": [
      "\n"
     ]
    },
    {
     "name": "stdout",
     "output_type": "stream",
     "text": [
      "\n",
      "      Epoch    GPU_mem       loss  Instances       Size\n"
     ]
    },
    {
     "name": "stderr",
     "output_type": "stream",
     "text": [
      "      35/50     0.465G     0.5393         14        224: 100%|██████████| 50/50 [00:01<00:00, 26.47it/s]\n",
      "               classes   top1_acc   top5_acc: 100%|██████████| 7/7 [00:00<00:00, 53.07it/s]"
     ]
    },
    {
     "name": "stdout",
     "output_type": "stream",
     "text": [
      "                   all      0.777          1\n"
     ]
    },
    {
     "name": "stderr",
     "output_type": "stream",
     "text": [
      "\n"
     ]
    },
    {
     "name": "stdout",
     "output_type": "stream",
     "text": [
      "\n",
      "      Epoch    GPU_mem       loss  Instances       Size\n"
     ]
    },
    {
     "name": "stderr",
     "output_type": "stream",
     "text": [
      "      36/50     0.465G     0.5568         14        224: 100%|██████████| 50/50 [00:01<00:00, 25.76it/s]\n",
      "               classes   top1_acc   top5_acc: 100%|██████████| 7/7 [00:00<00:00, 55.90it/s]"
     ]
    },
    {
     "name": "stdout",
     "output_type": "stream",
     "text": [
      "                   all      0.792          1\n"
     ]
    },
    {
     "name": "stderr",
     "output_type": "stream",
     "text": [
      "\n"
     ]
    },
    {
     "name": "stdout",
     "output_type": "stream",
     "text": [
      "\n",
      "      Epoch    GPU_mem       loss  Instances       Size\n"
     ]
    },
    {
     "name": "stderr",
     "output_type": "stream",
     "text": [
      "      37/50     0.465G     0.5432         14        224: 100%|██████████| 50/50 [00:02<00:00, 24.07it/s]\n",
      "               classes   top1_acc   top5_acc: 100%|██████████| 7/7 [00:00<00:00, 50.94it/s]"
     ]
    },
    {
     "name": "stdout",
     "output_type": "stream",
     "text": [
      "                   all      0.782          1\n"
     ]
    },
    {
     "name": "stderr",
     "output_type": "stream",
     "text": [
      "\n"
     ]
    },
    {
     "name": "stdout",
     "output_type": "stream",
     "text": [
      "\n",
      "      Epoch    GPU_mem       loss  Instances       Size\n"
     ]
    },
    {
     "name": "stderr",
     "output_type": "stream",
     "text": [
      "      38/50     0.465G     0.5284         14        224: 100%|██████████| 50/50 [00:01<00:00, 25.57it/s]\n",
      "               classes   top1_acc   top5_acc: 100%|██████████| 7/7 [00:00<00:00, 52.76it/s]"
     ]
    },
    {
     "name": "stdout",
     "output_type": "stream",
     "text": [
      "                   all      0.792          1\n"
     ]
    },
    {
     "name": "stderr",
     "output_type": "stream",
     "text": [
      "\n"
     ]
    },
    {
     "name": "stdout",
     "output_type": "stream",
     "text": [
      "\n",
      "      Epoch    GPU_mem       loss  Instances       Size\n"
     ]
    },
    {
     "name": "stderr",
     "output_type": "stream",
     "text": [
      "      39/50     0.465G     0.5275         14        224: 100%|██████████| 50/50 [00:01<00:00, 26.56it/s]\n",
      "               classes   top1_acc   top5_acc: 100%|██████████| 7/7 [00:00<00:00, 54.26it/s]"
     ]
    },
    {
     "name": "stdout",
     "output_type": "stream",
     "text": [
      "                   all      0.792          1\n"
     ]
    },
    {
     "name": "stderr",
     "output_type": "stream",
     "text": [
      "\n"
     ]
    },
    {
     "name": "stdout",
     "output_type": "stream",
     "text": [
      "\n",
      "      Epoch    GPU_mem       loss  Instances       Size\n"
     ]
    },
    {
     "name": "stderr",
     "output_type": "stream",
     "text": [
      "      40/50     0.465G     0.5068         14        224: 100%|██████████| 50/50 [00:01<00:00, 25.57it/s]\n",
      "               classes   top1_acc   top5_acc: 100%|██████████| 7/7 [00:00<00:00, 56.06it/s]"
     ]
    },
    {
     "name": "stdout",
     "output_type": "stream",
     "text": [
      "                   all      0.777          1\n"
     ]
    },
    {
     "name": "stderr",
     "output_type": "stream",
     "text": [
      "\n"
     ]
    },
    {
     "name": "stdout",
     "output_type": "stream",
     "text": [
      "\n",
      "      Epoch    GPU_mem       loss  Instances       Size\n"
     ]
    },
    {
     "name": "stderr",
     "output_type": "stream",
     "text": [
      "      41/50     0.465G     0.4818         14        224: 100%|██████████| 50/50 [00:02<00:00, 21.29it/s]\n",
      "               classes   top1_acc   top5_acc: 100%|██████████| 7/7 [00:00<00:00, 48.77it/s]"
     ]
    },
    {
     "name": "stdout",
     "output_type": "stream",
     "text": [
      "                   all      0.787          1\n"
     ]
    },
    {
     "name": "stderr",
     "output_type": "stream",
     "text": [
      "\n"
     ]
    },
    {
     "name": "stdout",
     "output_type": "stream",
     "text": [
      "\n",
      "      Epoch    GPU_mem       loss  Instances       Size\n"
     ]
    },
    {
     "name": "stderr",
     "output_type": "stream",
     "text": [
      "      42/50     0.465G     0.4818         14        224: 100%|██████████| 50/50 [00:02<00:00, 24.05it/s]\n",
      "               classes   top1_acc   top5_acc: 100%|██████████| 7/7 [00:00<00:00, 46.72it/s]"
     ]
    },
    {
     "name": "stdout",
     "output_type": "stream",
     "text": [
      "                   all      0.782          1\n"
     ]
    },
    {
     "name": "stderr",
     "output_type": "stream",
     "text": [
      "\n"
     ]
    },
    {
     "name": "stdout",
     "output_type": "stream",
     "text": [
      "\n",
      "      Epoch    GPU_mem       loss  Instances       Size\n"
     ]
    },
    {
     "name": "stderr",
     "output_type": "stream",
     "text": [
      "      43/50     0.465G     0.4742         14        224: 100%|██████████| 50/50 [00:01<00:00, 27.47it/s]\n",
      "               classes   top1_acc   top5_acc: 100%|██████████| 7/7 [00:00<00:00, 54.08it/s]"
     ]
    },
    {
     "name": "stdout",
     "output_type": "stream",
     "text": [
      "                   all      0.797          1\n"
     ]
    },
    {
     "name": "stderr",
     "output_type": "stream",
     "text": [
      "\n"
     ]
    },
    {
     "name": "stdout",
     "output_type": "stream",
     "text": [
      "\n",
      "      Epoch    GPU_mem       loss  Instances       Size\n"
     ]
    },
    {
     "name": "stderr",
     "output_type": "stream",
     "text": [
      "      44/50     0.467G     0.4634         14        224: 100%|██████████| 50/50 [00:01<00:00, 25.97it/s]\n",
      "               classes   top1_acc   top5_acc: 100%|██████████| 7/7 [00:00<00:00, 40.97it/s]"
     ]
    },
    {
     "name": "stdout",
     "output_type": "stream",
     "text": [
      "                   all      0.792          1\n"
     ]
    },
    {
     "name": "stderr",
     "output_type": "stream",
     "text": [
      "\n"
     ]
    },
    {
     "name": "stdout",
     "output_type": "stream",
     "text": [
      "\n",
      "      Epoch    GPU_mem       loss  Instances       Size\n"
     ]
    },
    {
     "name": "stderr",
     "output_type": "stream",
     "text": [
      "      45/50     0.471G     0.4939         14        224: 100%|██████████| 50/50 [00:01<00:00, 27.13it/s]\n",
      "               classes   top1_acc   top5_acc: 100%|██████████| 7/7 [00:00<00:00, 47.99it/s]"
     ]
    },
    {
     "name": "stdout",
     "output_type": "stream",
     "text": [
      "                   all      0.802          1\n"
     ]
    },
    {
     "name": "stderr",
     "output_type": "stream",
     "text": [
      "\n"
     ]
    },
    {
     "name": "stdout",
     "output_type": "stream",
     "text": [
      "\n",
      "      Epoch    GPU_mem       loss  Instances       Size\n"
     ]
    },
    {
     "name": "stderr",
     "output_type": "stream",
     "text": [
      "      46/50     0.471G     0.4946         14        224: 100%|██████████| 50/50 [00:01<00:00, 27.71it/s]\n",
      "               classes   top1_acc   top5_acc: 100%|██████████| 7/7 [00:00<00:00, 54.66it/s]"
     ]
    },
    {
     "name": "stdout",
     "output_type": "stream",
     "text": [
      "                   all      0.777          1\n"
     ]
    },
    {
     "name": "stderr",
     "output_type": "stream",
     "text": [
      "\n"
     ]
    },
    {
     "name": "stdout",
     "output_type": "stream",
     "text": [
      "\n",
      "      Epoch    GPU_mem       loss  Instances       Size\n"
     ]
    },
    {
     "name": "stderr",
     "output_type": "stream",
     "text": [
      "      47/50     0.471G     0.4636         14        224: 100%|██████████| 50/50 [00:01<00:00, 25.75it/s]\n",
      "               classes   top1_acc   top5_acc: 100%|██████████| 7/7 [00:00<00:00, 45.17it/s]"
     ]
    },
    {
     "name": "stdout",
     "output_type": "stream",
     "text": [
      "                   all      0.802          1\n"
     ]
    },
    {
     "name": "stderr",
     "output_type": "stream",
     "text": [
      "\n"
     ]
    },
    {
     "name": "stdout",
     "output_type": "stream",
     "text": [
      "\n",
      "      Epoch    GPU_mem       loss  Instances       Size\n"
     ]
    },
    {
     "name": "stderr",
     "output_type": "stream",
     "text": [
      "      48/50     0.473G     0.4517         14        224: 100%|██████████| 50/50 [00:01<00:00, 27.03it/s]\n",
      "               classes   top1_acc   top5_acc: 100%|██████████| 7/7 [00:00<00:00, 55.27it/s]"
     ]
    },
    {
     "name": "stdout",
     "output_type": "stream",
     "text": [
      "                   all      0.812          1\n"
     ]
    },
    {
     "name": "stderr",
     "output_type": "stream",
     "text": [
      "\n"
     ]
    },
    {
     "name": "stdout",
     "output_type": "stream",
     "text": [
      "\n",
      "      Epoch    GPU_mem       loss  Instances       Size\n"
     ]
    },
    {
     "name": "stderr",
     "output_type": "stream",
     "text": [
      "      49/50     0.477G     0.4505         14        224: 100%|██████████| 50/50 [00:01<00:00, 25.50it/s]\n",
      "               classes   top1_acc   top5_acc: 100%|██████████| 7/7 [00:00<00:00, 46.68it/s]"
     ]
    },
    {
     "name": "stdout",
     "output_type": "stream",
     "text": [
      "                   all      0.802          1\n"
     ]
    },
    {
     "name": "stderr",
     "output_type": "stream",
     "text": [
      "\n"
     ]
    },
    {
     "name": "stdout",
     "output_type": "stream",
     "text": [
      "\n",
      "      Epoch    GPU_mem       loss  Instances       Size\n"
     ]
    },
    {
     "name": "stderr",
     "output_type": "stream",
     "text": [
      "      50/50     0.479G     0.4477         14        224: 100%|██████████| 50/50 [00:02<00:00, 24.20it/s]\n",
      "               classes   top1_acc   top5_acc: 100%|██████████| 7/7 [00:00<00:00, 47.60it/s]"
     ]
    },
    {
     "name": "stdout",
     "output_type": "stream",
     "text": [
      "                   all      0.802          1\n"
     ]
    },
    {
     "name": "stderr",
     "output_type": "stream",
     "text": [
      "\n"
     ]
    },
    {
     "name": "stdout",
     "output_type": "stream",
     "text": [
      "\n",
      "50 epochs completed in 0.047 hours.\n",
      "Optimizer stripped from C:\\Users\\yongs\\runs\\classify\\train65\\weights\\last.pt, 3.0MB\n",
      "Optimizer stripped from C:\\Users\\yongs\\runs\\classify\\train65\\weights\\best.pt, 3.0MB\n",
      "\n",
      "Validating C:\\Users\\yongs\\runs\\classify\\train65\\weights\\best.pt...\n",
      "Ultralytics 8.3.88  Python-3.12.7 torch-2.6.0+cu118 CUDA:0 (NVIDIA GeForce GTX 1650, 4096MiB)\n",
      "YOLOv8n-cls summary (fused): 30 layers, 1,438,723 parameters, 0 gradients, 3.3 GFLOPs\n",
      "WARNING  Dataset 'split=val' not found, using 'split=test' instead.\n",
      "\u001b[34m\u001b[1mtrain:\u001b[0m C:\\Users\\yongs\\Documents\\acne_dataset\\dataset\\train... found 798 images in 3 classes  \n",
      "\u001b[34m\u001b[1mval:\u001b[0m None...\n",
      "\u001b[34m\u001b[1mtest:\u001b[0m C:\\Users\\yongs\\Documents\\acne_dataset\\dataset\\test... found 202 images in 3 classes  \n"
     ]
    },
    {
     "name": "stderr",
     "output_type": "stream",
     "text": [
      "               classes   top1_acc   top5_acc: 100%|██████████| 7/7 [00:00<00:00, 36.76it/s]\n"
     ]
    },
    {
     "name": "stdout",
     "output_type": "stream",
     "text": [
      "                   all      0.812          1\n",
      "Speed: 0.2ms preprocess, 0.6ms inference, 0.0ms loss, 0.0ms postprocess per image\n",
      "Results saved to \u001b[1mC:\\Users\\yongs\\runs\\classify\\train65\u001b[0m\n"
     ]
    },
    {
     "data": {
      "text/plain": [
       "ultralytics.utils.metrics.ClassifyMetrics object with attributes:\n",
       "\n",
       "confusion_matrix: <ultralytics.utils.metrics.ConfusionMatrix object at 0x000002ABA673B260>\n",
       "curves: []\n",
       "curves_results: []\n",
       "fitness: 0.905940592288971\n",
       "keys: ['metrics/accuracy_top1', 'metrics/accuracy_top5']\n",
       "results_dict: {'metrics/accuracy_top1': 0.8118811845779419, 'metrics/accuracy_top5': 1.0, 'fitness': 0.905940592288971}\n",
       "save_dir: WindowsPath('C:/Users/yongs/runs/classify/train65')\n",
       "speed: {'preprocess': 0.17885346539632077, 'inference': 0.5820608910491303, 'loss': 0.0034490099411900385, 'postprocess': 0.01593712860796748}\n",
       "task: 'classify'\n",
       "top1: 0.8118811845779419\n",
       "top5: 1.0"
      ]
     },
     "execution_count": 26,
     "metadata": {},
     "output_type": "execute_result"
    }
   ],
   "source": [
    "model.train(data=\"dataset\", epochs=50, imgsz=224)  # Train with training set\n"
   ]
  },
  {
   "cell_type": "code",
   "execution_count": 22,
   "id": "fee10a8c-14d2-4e7d-ade6-b5b2bb8b5fcb",
   "metadata": {},
   "outputs": [
    {
     "name": "stdout",
     "output_type": "stream",
     "text": [
      "Ultralytics 8.3.88  Python-3.12.7 torch-2.6.0+cu118 CUDA:0 (NVIDIA GeForce GTX 1650, 4096MiB)\n",
      "YOLOv8n-cls summary (fused): 30 layers, 1,438,723 parameters, 0 gradients, 3.3 GFLOPs\n",
      "\u001b[34m\u001b[1mtrain:\u001b[0m C:\\Users\\yongs\\Documents\\acne_dataset\\dataset\\train... found 798 images in 3 classes  \n",
      "\u001b[34m\u001b[1mval:\u001b[0m None...\n",
      "\u001b[34m\u001b[1mtest:\u001b[0m C:\\Users\\yongs\\Documents\\acne_dataset\\dataset\\test... found 202 images in 3 classes  \n"
     ]
    },
    {
     "name": "stderr",
     "output_type": "stream",
     "text": [
      "\u001b[34m\u001b[1mtest: \u001b[0mScanning C:\\Users\\yongs\\Documents\\acne_dataset\\dataset\\test... 202 images, 0 corrupt: 100%|██████████| 202/202 [00:00<?, ?it/s]\n",
      "               classes   top1_acc   top5_acc: 100%|██████████| 13/13 [00:06<00:00,  1.94it/s]\n"
     ]
    },
    {
     "name": "stdout",
     "output_type": "stream",
     "text": [
      "                   all      0.807          1\n",
      "Speed: 0.2ms preprocess, 1.3ms inference, 0.0ms loss, 0.0ms postprocess per image\n",
      "Results saved to \u001b[1mC:\\Users\\yongs\\runs\\classify\\train62\u001b[0m\n",
      "ultralytics.utils.metrics.ClassifyMetrics object with attributes:\n",
      "\n",
      "confusion_matrix: <ultralytics.utils.metrics.ConfusionMatrix object at 0x000002AB968FD9A0>\n",
      "curves: []\n",
      "curves_results: []\n",
      "fitness: 0.9034653604030609\n",
      "keys: ['metrics/accuracy_top1', 'metrics/accuracy_top5']\n",
      "results_dict: {'metrics/accuracy_top1': 0.8069307208061218, 'metrics/accuracy_top5': 1.0, 'fitness': 0.9034653604030609}\n",
      "save_dir: WindowsPath('C:/Users/yongs/runs/classify/train62')\n",
      "speed: {'preprocess': 0.18564653456081995, 'inference': 1.3202257425003308, 'loss': 0.0005965345852667152, 'postprocess': 0.00918861366185996}\n",
      "task: 'classify'\n",
      "top1: 0.8069307208061218\n",
      "top5: 1.0\n"
     ]
    }
   ],
   "source": [
    "results = model.val(split=\"test\", verbose=True)  # Evaluate model on the test set with more details\n",
    "print(results)\n"
   ]
  },
  {
   "cell_type": "code",
   "execution_count": 8,
   "id": "4025db77-2a6b-4252-882e-eb4c3bed7713",
   "metadata": {},
   "outputs": [
    {
     "name": "stdout",
     "output_type": "stream",
     "text": [
      "Ultralytics 8.3.88  Python-3.12.7 torch-2.6.0+cu118 CUDA:0 (NVIDIA GeForce GTX 1650, 4096MiB)\n",
      "\u001b[34m\u001b[1mtrain:\u001b[0m C:\\Users\\yongs\\Documents\\acne_dataset\\dataset\\train... found 798 images in 3 classes  \n",
      "\u001b[34m\u001b[1mval:\u001b[0m None...\n",
      "\u001b[34m\u001b[1mtest:\u001b[0m C:\\Users\\yongs\\Documents\\acne_dataset\\dataset\\test... found 202 images in 3 classes  \n"
     ]
    },
    {
     "name": "stderr",
     "output_type": "stream",
     "text": [
      "\u001b[34m\u001b[1mtest: \u001b[0mScanning C:\\Users\\yongs\\Documents\\acne_dataset\\dataset\\test... 202 images, 0 corrupt: 100%|██████████| 202/202 [00:00<?, ?it/s]\n",
      "               classes   top1_acc   top5_acc: 100%|██████████| 13/13 [00:06<00:00,  1.88it/s]\n"
     ]
    },
    {
     "name": "stdout",
     "output_type": "stream",
     "text": [
      "                   all      0.807          1\n",
      "Speed: 0.3ms preprocess, 1.0ms inference, 0.0ms loss, 0.0ms postprocess per image\n",
      "Results saved to \u001b[1mC:\\Users\\yongs\\runs\\classify\\train54\u001b[0m\n",
      "Top-1 Accuracy: 0.8069\n",
      "Top-5 Accuracy: 1.0000\n",
      "Speed (ms per image): {'preprocess': 0.26148811846021747, 'inference': 0.9892559405715934, 'loss': 0.0006173269668741538, 'postprocess': 0.0011638614595729378}\n",
      "Full Metrics: {'metrics/accuracy_top1': 0.8069307208061218, 'metrics/accuracy_top5': 1.0, 'fitness': 0.9034653604030609}\n"
     ]
    }
   ],
   "source": [
    "# Run validation on the test set\n",
    "metrics = model.val(split=\"test\")\n",
    "\n",
    "# Extract and print classification metrics\n",
    "print(f\"Top-1 Accuracy: {metrics.top1:.4f}\")  # Top-1 accuracy\n",
    "print(f\"Top-5 Accuracy: {metrics.top5:.4f}\")  # Top-5 accuracy (if applicable)\n",
    "print(f\"Speed (ms per image): {metrics.speed}\")  # Processing speed\n",
    "\n",
    "# If you want all metrics in a dictionary format\n",
    "print(\"Full Metrics:\", metrics.results_dict)"
   ]
  },
  {
   "cell_type": "code",
   "execution_count": 9,
   "id": "10d85746-6523-49ab-ae03-04f3edf3b3d5",
   "metadata": {},
   "outputs": [
    {
     "name": "stdout",
     "output_type": "stream",
     "text": [
      "ultralytics.utils.metrics.ClassifyMetrics object with attributes:\n",
      "\n",
      "confusion_matrix: <ultralytics.utils.metrics.ConfusionMatrix object at 0x000002AB96876540>\n",
      "curves: []\n",
      "curves_results: []\n",
      "fitness: 0.9034653604030609\n",
      "keys: ['metrics/accuracy_top1', 'metrics/accuracy_top5']\n",
      "results_dict: {'metrics/accuracy_top1': 0.8069307208061218, 'metrics/accuracy_top5': 1.0, 'fitness': 0.9034653604030609}\n",
      "save_dir: WindowsPath('C:/Users/yongs/runs/classify/train54')\n",
      "speed: {'preprocess': 0.26148811846021747, 'inference': 0.9892559405715934, 'loss': 0.0006173269668741538, 'postprocess': 0.0011638614595729378}\n",
      "task: 'classify'\n",
      "top1: 0.8069307208061218\n",
      "top5: 1.0\n"
     ]
    }
   ],
   "source": [
    "print(metrics)  # Print summary\n"
   ]
  },
  {
   "cell_type": "code",
   "execution_count": 23,
   "id": "b735d12e-9bd2-4ac3-98fb-2582d2a1adf7",
   "metadata": {
    "scrolled": true
   },
   "outputs": [
    {
     "name": "stdout",
     "output_type": "stream",
     "text": [
      "\n",
      "0: 224x224 Level_0 0.98, Level_1 0.02, Level_2 0.00, 2.9ms\n",
      "1: 224x224 Level_0 1.00, Level_1 0.00, Level_2 0.00, 2.9ms\n",
      "2: 224x224 Level_0 0.95, Level_1 0.05, Level_2 0.00, 2.9ms\n",
      "3: 224x224 Level_1 0.57, Level_0 0.43, Level_2 0.00, 2.9ms\n",
      "4: 224x224 Level_0 1.00, Level_1 0.00, Level_2 0.00, 2.9ms\n",
      "5: 224x224 Level_0 0.95, Level_1 0.05, Level_2 0.00, 2.9ms\n",
      "6: 224x224 Level_1 0.63, Level_0 0.37, Level_2 0.00, 2.9ms\n",
      "7: 224x224 Level_0 0.91, Level_1 0.09, Level_2 0.00, 2.9ms\n",
      "8: 224x224 Level_0 0.99, Level_1 0.01, Level_2 0.00, 2.9ms\n",
      "9: 224x224 Level_0 0.97, Level_1 0.03, Level_2 0.00, 2.9ms\n",
      "10: 224x224 Level_0 1.00, Level_1 0.00, Level_2 0.00, 2.9ms\n",
      "11: 224x224 Level_0 0.98, Level_1 0.02, Level_2 0.00, 2.9ms\n",
      "12: 224x224 Level_0 1.00, Level_1 0.00, Level_2 0.00, 2.9ms\n",
      "13: 224x224 Level_0 0.96, Level_1 0.04, Level_2 0.00, 2.9ms\n",
      "14: 224x224 Level_0 0.92, Level_1 0.08, Level_2 0.00, 2.9ms\n",
      "15: 224x224 Level_0 0.92, Level_1 0.08, Level_2 0.00, 2.9ms\n",
      "Speed: 0.0ms preprocess, 2.9ms inference, 0.3ms postprocess per image at shape (1, 3, 224, 224)\n",
      "\n",
      "0: 224x224 Level_0 0.54, Level_1 0.46, Level_2 0.00, 2.9ms\n",
      "1: 224x224 Level_0 0.74, Level_1 0.26, Level_2 0.00, 2.9ms\n",
      "2: 224x224 Level_0 0.72, Level_1 0.28, Level_2 0.00, 2.9ms\n",
      "3: 224x224 Level_1 0.78, Level_0 0.22, Level_2 0.00, 2.9ms\n",
      "4: 224x224 Level_0 0.88, Level_1 0.12, Level_2 0.00, 2.9ms\n",
      "5: 224x224 Level_0 0.94, Level_1 0.06, Level_2 0.00, 2.9ms\n",
      "6: 224x224 Level_0 0.84, Level_1 0.16, Level_2 0.00, 2.9ms\n",
      "7: 224x224 Level_0 0.98, Level_1 0.02, Level_2 0.00, 2.9ms\n",
      "8: 224x224 Level_0 0.64, Level_1 0.36, Level_2 0.00, 2.9ms\n",
      "9: 224x224 Level_0 0.83, Level_1 0.17, Level_2 0.00, 2.9ms\n",
      "10: 224x224 Level_0 0.85, Level_1 0.15, Level_2 0.00, 2.9ms\n",
      "11: 224x224 Level_0 0.99, Level_1 0.01, Level_2 0.00, 2.9ms\n",
      "12: 224x224 Level_0 0.50, Level_1 0.50, Level_2 0.00, 2.9ms\n",
      "13: 224x224 Level_0 0.83, Level_1 0.16, Level_2 0.01, 2.9ms\n",
      "14: 224x224 Level_0 0.85, Level_1 0.15, Level_2 0.00, 2.9ms\n",
      "15: 224x224 Level_0 0.83, Level_1 0.17, Level_2 0.00, 2.9ms\n",
      "Speed: 0.0ms preprocess, 2.9ms inference, 0.3ms postprocess per image at shape (1, 3, 224, 224)\n",
      "\n",
      "0: 224x224 Level_0 0.61, Level_1 0.39, Level_2 0.00, 2.9ms\n",
      "1: 224x224 Level_0 0.98, Level_1 0.02, Level_2 0.00, 2.9ms\n",
      "2: 224x224 Level_0 0.90, Level_1 0.10, Level_2 0.00, 2.9ms\n",
      "3: 224x224 Level_1 0.95, Level_0 0.05, Level_2 0.01, 2.9ms\n",
      "4: 224x224 Level_1 0.66, Level_0 0.32, Level_2 0.01, 2.9ms\n",
      "5: 224x224 Level_0 0.98, Level_1 0.02, Level_2 0.00, 2.9ms\n",
      "6: 224x224 Level_0 0.99, Level_1 0.01, Level_2 0.00, 2.9ms\n",
      "7: 224x224 Level_1 0.87, Level_0 0.12, Level_2 0.02, 2.9ms\n",
      "8: 224x224 Level_0 0.52, Level_1 0.48, Level_2 0.00, 2.9ms\n",
      "9: 224x224 Level_0 0.87, Level_1 0.13, Level_2 0.00, 2.9ms\n",
      "10: 224x224 Level_0 0.99, Level_1 0.01, Level_2 0.00, 2.9ms\n",
      "11: 224x224 Level_0 0.85, Level_1 0.15, Level_2 0.00, 2.9ms\n",
      "12: 224x224 Level_0 0.98, Level_1 0.02, Level_2 0.00, 2.9ms\n",
      "13: 224x224 Level_0 0.99, Level_1 0.01, Level_2 0.00, 2.9ms\n",
      "14: 224x224 Level_1 0.67, Level_0 0.33, Level_2 0.00, 2.9ms\n",
      "15: 224x224 Level_0 1.00, Level_1 0.00, Level_2 0.00, 2.9ms\n",
      "Speed: 0.0ms preprocess, 2.9ms inference, 0.3ms postprocess per image at shape (1, 3, 224, 224)\n",
      "\n",
      "0: 224x224 Level_0 0.95, Level_1 0.05, Level_2 0.00, 2.8ms\n",
      "1: 224x224 Level_0 1.00, Level_1 0.00, Level_2 0.00, 2.8ms\n",
      "2: 224x224 Level_1 0.88, Level_0 0.12, Level_2 0.00, 2.8ms\n",
      "3: 224x224 Level_0 0.98, Level_1 0.02, Level_2 0.00, 2.8ms\n",
      "4: 224x224 Level_0 0.98, Level_1 0.02, Level_2 0.00, 2.8ms\n",
      "5: 224x224 Level_0 0.61, Level_1 0.39, Level_2 0.00, 2.8ms\n",
      "6: 224x224 Level_0 0.98, Level_1 0.02, Level_2 0.00, 2.8ms\n",
      "7: 224x224 Level_0 0.65, Level_1 0.35, Level_2 0.00, 2.8ms\n",
      "8: 224x224 Level_0 0.99, Level_1 0.01, Level_2 0.00, 2.8ms\n",
      "9: 224x224 Level_0 0.75, Level_1 0.25, Level_2 0.00, 2.8ms\n",
      "10: 224x224 Level_0 0.74, Level_1 0.26, Level_2 0.00, 2.8ms\n",
      "11: 224x224 Level_0 0.96, Level_1 0.04, Level_2 0.00, 2.8ms\n",
      "12: 224x224 Level_1 0.95, Level_0 0.05, Level_2 0.00, 2.8ms\n",
      "13: 224x224 Level_0 0.74, Level_1 0.26, Level_2 0.00, 2.8ms\n",
      "14: 224x224 Level_0 0.89, Level_1 0.11, Level_2 0.00, 2.8ms\n",
      "15: 224x224 Level_1 0.62, Level_0 0.38, Level_2 0.00, 2.8ms\n",
      "Speed: 0.0ms preprocess, 2.8ms inference, 0.3ms postprocess per image at shape (1, 3, 224, 224)\n",
      "\n",
      "0: 224x224 Level_0 0.99, Level_1 0.01, Level_2 0.00, 2.9ms\n",
      "1: 224x224 Level_0 0.88, Level_1 0.12, Level_2 0.00, 2.9ms\n",
      "2: 224x224 Level_0 0.99, Level_1 0.01, Level_2 0.00, 2.9ms\n",
      "3: 224x224 Level_0 0.98, Level_1 0.02, Level_2 0.00, 2.9ms\n",
      "4: 224x224 Level_0 0.92, Level_1 0.08, Level_2 0.00, 2.9ms\n",
      "5: 224x224 Level_0 0.56, Level_1 0.44, Level_2 0.00, 2.9ms\n",
      "6: 224x224 Level_0 0.75, Level_1 0.25, Level_2 0.00, 2.9ms\n",
      "7: 224x224 Level_0 0.64, Level_1 0.36, Level_2 0.00, 2.9ms\n",
      "8: 224x224 Level_0 0.96, Level_1 0.04, Level_2 0.00, 2.9ms\n",
      "9: 224x224 Level_0 0.88, Level_1 0.12, Level_2 0.00, 2.9ms\n",
      "10: 224x224 Level_0 0.82, Level_1 0.18, Level_2 0.00, 2.9ms\n",
      "11: 224x224 Level_0 0.95, Level_1 0.05, Level_2 0.00, 2.9ms\n",
      "12: 224x224 Level_1 0.73, Level_0 0.27, Level_2 0.00, 2.9ms\n",
      "13: 224x224 Level_0 0.98, Level_1 0.02, Level_2 0.00, 2.9ms\n",
      "14: 224x224 Level_0 0.97, Level_1 0.03, Level_2 0.00, 2.9ms\n",
      "15: 224x224 Level_1 0.81, Level_2 0.16, Level_0 0.02, 2.9ms\n",
      "Speed: 0.0ms preprocess, 2.9ms inference, 0.3ms postprocess per image at shape (1, 3, 224, 224)\n",
      "\n",
      "0: 224x224 Level_1 0.76, Level_0 0.23, Level_2 0.01, 2.7ms\n",
      "1: 224x224 Level_1 0.94, Level_2 0.04, Level_0 0.02, 2.7ms\n",
      "2: 224x224 Level_1 0.62, Level_0 0.38, Level_2 0.00, 2.7ms\n",
      "3: 224x224 Level_1 0.87, Level_0 0.13, Level_2 0.00, 2.7ms\n",
      "4: 224x224 Level_1 0.99, Level_0 0.01, Level_2 0.00, 2.7ms\n",
      "5: 224x224 Level_0 0.98, Level_1 0.02, Level_2 0.00, 2.7ms\n",
      "6: 224x224 Level_1 0.91, Level_0 0.09, Level_2 0.00, 2.7ms\n",
      "7: 224x224 Level_0 0.79, Level_1 0.21, Level_2 0.00, 2.7ms\n",
      "8: 224x224 Level_1 0.55, Level_0 0.45, Level_2 0.00, 2.7ms\n",
      "9: 224x224 Level_1 0.99, Level_2 0.01, Level_0 0.00, 2.7ms\n",
      "10: 224x224 Level_1 0.77, Level_2 0.22, Level_0 0.00, 2.7ms\n",
      "11: 224x224 Level_1 0.97, Level_0 0.02, Level_2 0.01, 2.7ms\n",
      "12: 224x224 Level_1 0.93, Level_2 0.05, Level_0 0.01, 2.7ms\n",
      "13: 224x224 Level_1 0.59, Level_0 0.41, Level_2 0.00, 2.7ms\n",
      "14: 224x224 Level_1 0.88, Level_0 0.09, Level_2 0.02, 2.7ms\n",
      "15: 224x224 Level_1 0.36, Level_2 0.33, Level_0 0.32, 2.7ms\n",
      "Speed: 0.0ms preprocess, 2.7ms inference, 0.3ms postprocess per image at shape (1, 3, 224, 224)\n",
      "\n",
      "0: 224x224 Level_1 0.71, Level_2 0.28, Level_0 0.01, 2.8ms\n",
      "1: 224x224 Level_0 0.71, Level_1 0.29, Level_2 0.00, 2.8ms\n",
      "2: 224x224 Level_2 0.72, Level_1 0.27, Level_0 0.01, 2.8ms\n",
      "3: 224x224 Level_1 0.89, Level_0 0.11, Level_2 0.00, 2.8ms\n",
      "4: 224x224 Level_1 0.82, Level_0 0.17, Level_2 0.01, 2.8ms\n",
      "5: 224x224 Level_1 0.92, Level_0 0.08, Level_2 0.00, 2.8ms\n",
      "6: 224x224 Level_0 0.72, Level_1 0.28, Level_2 0.00, 2.8ms\n",
      "7: 224x224 Level_1 0.91, Level_0 0.09, Level_2 0.00, 2.8ms\n",
      "8: 224x224 Level_1 0.61, Level_0 0.25, Level_2 0.14, 2.8ms\n",
      "9: 224x224 Level_1 0.78, Level_0 0.22, Level_2 0.01, 2.8ms\n",
      "10: 224x224 Level_1 0.68, Level_0 0.32, Level_2 0.00, 2.8ms\n",
      "11: 224x224 Level_1 0.98, Level_2 0.02, Level_0 0.00, 2.8ms\n",
      "12: 224x224 Level_1 0.85, Level_2 0.15, Level_0 0.00, 2.8ms\n",
      "13: 224x224 Level_2 0.85, Level_1 0.15, Level_0 0.00, 2.8ms\n",
      "14: 224x224 Level_1 0.94, Level_0 0.05, Level_2 0.01, 2.8ms\n",
      "15: 224x224 Level_1 0.51, Level_0 0.49, Level_2 0.00, 2.8ms\n",
      "Speed: 0.0ms preprocess, 2.8ms inference, 0.3ms postprocess per image at shape (1, 3, 224, 224)\n",
      "\n",
      "0: 224x224 Level_1 0.85, Level_0 0.15, Level_2 0.01, 2.9ms\n",
      "1: 224x224 Level_1 0.87, Level_0 0.13, Level_2 0.00, 2.9ms\n",
      "2: 224x224 Level_2 0.52, Level_1 0.48, Level_0 0.00, 2.9ms\n",
      "3: 224x224 Level_1 0.94, Level_0 0.05, Level_2 0.00, 2.9ms\n",
      "4: 224x224 Level_1 0.91, Level_0 0.09, Level_2 0.00, 2.9ms\n",
      "5: 224x224 Level_1 0.70, Level_2 0.25, Level_0 0.06, 2.9ms\n",
      "6: 224x224 Level_1 0.85, Level_2 0.13, Level_0 0.02, 2.9ms\n",
      "7: 224x224 Level_1 0.50, Level_0 0.49, Level_2 0.00, 2.9ms\n",
      "8: 224x224 Level_1 0.86, Level_0 0.14, Level_2 0.00, 2.9ms\n",
      "9: 224x224 Level_1 0.92, Level_0 0.05, Level_2 0.03, 2.9ms\n",
      "10: 224x224 Level_0 0.97, Level_1 0.03, Level_2 0.00, 2.9ms\n",
      "11: 224x224 Level_1 0.79, Level_0 0.20, Level_2 0.01, 2.9ms\n",
      "12: 224x224 Level_0 0.79, Level_1 0.21, Level_2 0.00, 2.9ms\n",
      "13: 224x224 Level_0 0.96, Level_1 0.04, Level_2 0.00, 2.9ms\n",
      "14: 224x224 Level_1 0.82, Level_0 0.14, Level_2 0.04, 2.9ms\n",
      "15: 224x224 Level_1 0.76, Level_0 0.24, Level_2 0.00, 2.9ms\n",
      "Speed: 0.0ms preprocess, 2.9ms inference, 0.3ms postprocess per image at shape (1, 3, 224, 224)\n",
      "\n",
      "0: 224x224 Level_1 0.92, Level_0 0.06, Level_2 0.02, 2.8ms\n",
      "1: 224x224 Level_1 0.81, Level_0 0.19, Level_2 0.00, 2.8ms\n",
      "2: 224x224 Level_1 0.96, Level_2 0.04, Level_0 0.00, 2.8ms\n",
      "3: 224x224 Level_1 0.90, Level_0 0.06, Level_2 0.04, 2.8ms\n",
      "4: 224x224 Level_1 0.91, Level_0 0.09, Level_2 0.00, 2.8ms\n",
      "5: 224x224 Level_1 0.87, Level_0 0.12, Level_2 0.01, 2.8ms\n",
      "6: 224x224 Level_1 1.00, Level_0 0.00, Level_2 0.00, 2.8ms\n",
      "7: 224x224 Level_1 0.99, Level_0 0.01, Level_2 0.00, 2.8ms\n",
      "8: 224x224 Level_1 0.90, Level_0 0.10, Level_2 0.00, 2.8ms\n",
      "9: 224x224 Level_1 0.89, Level_0 0.10, Level_2 0.00, 2.8ms\n",
      "10: 224x224 Level_1 0.95, Level_0 0.04, Level_2 0.01, 2.8ms\n",
      "11: 224x224 Level_0 0.66, Level_1 0.34, Level_2 0.00, 2.8ms\n",
      "12: 224x224 Level_0 0.70, Level_1 0.30, Level_2 0.00, 2.8ms\n",
      "13: 224x224 Level_1 0.86, Level_0 0.14, Level_2 0.00, 2.8ms\n",
      "14: 224x224 Level_1 0.91, Level_2 0.09, Level_0 0.00, 2.8ms\n",
      "15: 224x224 Level_0 0.94, Level_1 0.06, Level_2 0.00, 2.8ms\n",
      "Speed: 0.0ms preprocess, 2.8ms inference, 0.3ms postprocess per image at shape (1, 3, 224, 224)\n",
      "\n",
      "0: 224x224 Level_1 0.91, Level_0 0.08, Level_2 0.00, 2.7ms\n",
      "1: 224x224 Level_0 0.67, Level_1 0.33, Level_2 0.00, 2.7ms\n",
      "2: 224x224 Level_1 0.98, Level_2 0.02, Level_0 0.00, 2.7ms\n",
      "3: 224x224 Level_0 0.82, Level_1 0.18, Level_2 0.00, 2.7ms\n",
      "4: 224x224 Level_1 0.79, Level_0 0.20, Level_2 0.01, 2.7ms\n",
      "5: 224x224 Level_0 0.76, Level_1 0.24, Level_2 0.00, 2.7ms\n",
      "6: 224x224 Level_1 0.84, Level_0 0.11, Level_2 0.06, 2.7ms\n",
      "7: 224x224 Level_1 0.96, Level_2 0.04, Level_0 0.01, 2.7ms\n",
      "8: 224x224 Level_1 0.54, Level_2 0.46, Level_0 0.00, 2.7ms\n",
      "9: 224x224 Level_1 0.58, Level_0 0.42, Level_2 0.00, 2.7ms\n",
      "10: 224x224 Level_1 0.98, Level_0 0.02, Level_2 0.00, 2.7ms\n",
      "11: 224x224 Level_1 0.63, Level_2 0.25, Level_0 0.12, 2.7ms\n",
      "12: 224x224 Level_2 0.76, Level_1 0.24, Level_0 0.00, 2.7ms\n",
      "13: 224x224 Level_1 0.94, Level_2 0.06, Level_0 0.00, 2.7ms\n",
      "14: 224x224 Level_1 1.00, Level_0 0.00, Level_2 0.00, 2.7ms\n",
      "15: 224x224 Level_1 0.99, Level_2 0.01, Level_0 0.00, 2.7ms\n",
      "Speed: 0.0ms preprocess, 2.7ms inference, 0.3ms postprocess per image at shape (1, 3, 224, 224)\n",
      "\n",
      "0: 224x224 Level_1 0.98, Level_0 0.02, Level_2 0.00, 2.8ms\n",
      "1: 224x224 Level_1 1.00, Level_0 0.00, Level_2 0.00, 2.8ms\n",
      "2: 224x224 Level_2 0.65, Level_1 0.35, Level_0 0.00, 2.8ms\n",
      "3: 224x224 Level_1 0.51, Level_0 0.36, Level_2 0.13, 2.8ms\n",
      "4: 224x224 Level_0 0.86, Level_1 0.14, Level_2 0.00, 2.8ms\n",
      "5: 224x224 Level_1 0.64, Level_2 0.36, Level_0 0.00, 2.8ms\n",
      "6: 224x224 Level_1 0.98, Level_0 0.01, Level_2 0.01, 2.8ms\n",
      "7: 224x224 Level_1 0.98, Level_0 0.02, Level_2 0.00, 2.8ms\n",
      "8: 224x224 Level_1 0.86, Level_0 0.11, Level_2 0.03, 2.8ms\n",
      "9: 224x224 Level_0 0.62, Level_1 0.37, Level_2 0.01, 2.8ms\n",
      "10: 224x224 Level_1 0.54, Level_0 0.46, Level_2 0.00, 2.8ms\n",
      "11: 224x224 Level_1 0.96, Level_0 0.02, Level_2 0.02, 2.8ms\n",
      "12: 224x224 Level_2 0.93, Level_1 0.07, Level_0 0.00, 2.8ms\n",
      "13: 224x224 Level_2 0.69, Level_1 0.31, Level_0 0.00, 2.8ms\n",
      "14: 224x224 Level_2 0.87, Level_1 0.13, Level_0 0.00, 2.8ms\n",
      "15: 224x224 Level_2 0.99, Level_1 0.01, Level_0 0.00, 2.8ms\n",
      "Speed: 0.0ms preprocess, 2.8ms inference, 0.3ms postprocess per image at shape (1, 3, 224, 224)\n",
      "\n",
      "0: 224x224 Level_2 0.50, Level_1 0.50, Level_0 0.00, 0.6ms\n",
      "1: 224x224 Level_1 0.52, Level_0 0.45, Level_2 0.03, 0.6ms\n",
      "2: 224x224 Level_2 0.97, Level_1 0.03, Level_0 0.00, 0.6ms\n",
      "3: 224x224 Level_1 0.98, Level_2 0.01, Level_0 0.01, 0.6ms\n",
      "4: 224x224 Level_2 0.80, Level_1 0.20, Level_0 0.00, 0.6ms\n",
      "5: 224x224 Level_2 0.53, Level_1 0.45, Level_0 0.02, 0.6ms\n",
      "6: 224x224 Level_2 0.97, Level_1 0.03, Level_0 0.00, 0.6ms\n",
      "7: 224x224 Level_2 0.51, Level_1 0.49, Level_0 0.00, 0.6ms\n",
      "8: 224x224 Level_2 1.00, Level_1 0.00, Level_0 0.00, 0.6ms\n",
      "9: 224x224 Level_2 1.00, Level_1 0.00, Level_0 0.00, 0.6ms\n",
      "10: 224x224 Level_1 0.92, Level_0 0.04, Level_2 0.04, 0.6ms\n",
      "11: 224x224 Level_1 0.64, Level_2 0.36, Level_0 0.00, 0.6ms\n",
      "12: 224x224 Level_2 0.97, Level_1 0.03, Level_0 0.00, 0.6ms\n",
      "13: 224x224 Level_2 0.63, Level_1 0.36, Level_0 0.01, 0.6ms\n",
      "14: 224x224 Level_2 0.73, Level_1 0.27, Level_0 0.00, 0.6ms\n",
      "15: 224x224 Level_2 0.70, Level_1 0.29, Level_0 0.00, 0.6ms\n",
      "Speed: 0.0ms preprocess, 0.6ms inference, 0.1ms postprocess per image at shape (1, 3, 224, 224)\n",
      "\n",
      "0: 224x224 Level_1 0.87, Level_2 0.13, Level_0 0.01, 0.7ms\n",
      "1: 224x224 Level_2 0.56, Level_1 0.26, Level_0 0.18, 0.7ms\n",
      "2: 224x224 Level_1 0.63, Level_2 0.37, Level_0 0.00, 0.7ms\n",
      "3: 224x224 Level_2 0.82, Level_1 0.18, Level_0 0.00, 0.7ms\n",
      "4: 224x224 Level_2 0.99, Level_1 0.01, Level_0 0.00, 0.7ms\n",
      "5: 224x224 Level_0 0.78, Level_1 0.14, Level_2 0.07, 0.7ms\n",
      "6: 224x224 Level_2 1.00, Level_1 0.00, Level_0 0.00, 0.7ms\n",
      "7: 224x224 Level_2 0.96, Level_1 0.03, Level_0 0.00, 0.7ms\n",
      "8: 224x224 Level_2 0.98, Level_1 0.02, Level_0 0.00, 0.7ms\n",
      "9: 224x224 Level_2 1.00, Level_1 0.00, Level_0 0.00, 0.7ms\n",
      "Speed: 0.0ms preprocess, 0.7ms inference, 0.1ms postprocess per image at shape (1, 3, 224, 224)\n",
      "Test Accuracy: 0.8020\n"
     ]
    }
   ],
   "source": [
    "import torch\n",
    "import numpy as np\n",
    "from ultralytics import YOLO\n",
    "from PIL import Image\n",
    "import cv2\n",
    "from torchvision import transforms\n",
    "from torch.utils.data import DataLoader\n",
    "from torchvision.datasets import ImageFolder\n",
    "\n",
    "# Define the test dataset directory\n",
    "test_dir = \"C:/Users/yongs/Documents/acne_dataset/dataset/test\"\n",
    "\n",
    "# Define image transformations (ensure images are in the correct format)\n",
    "transform = transforms.Compose([\n",
    "    transforms.Resize((224, 224)),  # Resize to model input size\n",
    "    transforms.ToTensor(),  # Convert image to tensor\n",
    "])\n",
    "\n",
    "# Load test dataset\n",
    "test_data = ImageFolder(root=test_dir, transform=transform)\n",
    "test_loader = DataLoader(test_data, batch_size=16, shuffle=False)\n",
    "\n",
    "# Move model to GPU if available\n",
    "device = \"cuda\" if torch.cuda.is_available() else \"cpu\"\n",
    "model.to(device)\n",
    "\n",
    "# Initialize lists for true and predicted labels\n",
    "y_true = []\n",
    "y_pred = []\n",
    "\n",
    "# Evaluate model\n",
    "for images, labels in test_loader:\n",
    "    images = images.to(device)  # Move images to GPU if available\n",
    "\n",
    "    # Make predictions (returns list of results)\n",
    "    results = model(images)  \n",
    "\n",
    "    # Extract the tensor predictions\n",
    "    preds = torch.cat([res.probs.data.unsqueeze(0) for res in results], dim=0)\n",
    "\n",
    "    # Convert predictions to class indices\n",
    "    y_pred.extend(torch.argmax(preds, axis=1).cpu().numpy())\n",
    "    y_true.extend(labels.cpu().numpy())  # Ensure labels are on CPU for compatibility\n",
    "\n",
    "# Convert lists to numpy arrays for evaluation\n",
    "y_true = np.array(y_true)\n",
    "y_pred = np.array(y_pred)\n",
    "\n",
    "# Calculate Top-1 accuracy\n",
    "accuracy = np.mean(y_true == y_pred)\n",
    "print(f\"Test Accuracy: {accuracy:.4f}\")"
   ]
  },
  {
   "cell_type": "code",
   "execution_count": null,
   "id": "fcab3342-2b06-4ba1-b5f4-efff73680cde",
   "metadata": {},
   "outputs": [],
   "source": []
  }
 ],
 "metadata": {
  "kernelspec": {
   "display_name": "Python 3 (ipykernel)",
   "language": "python",
   "name": "python3"
  },
  "language_info": {
   "codemirror_mode": {
    "name": "ipython",
    "version": 3
   },
   "file_extension": ".py",
   "mimetype": "text/x-python",
   "name": "python",
   "nbconvert_exporter": "python",
   "pygments_lexer": "ipython3",
   "version": "3.12.7"
  }
 },
 "nbformat": 4,
 "nbformat_minor": 5
}
